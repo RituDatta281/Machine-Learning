{
 "cells": [
  {
   "cell_type": "code",
   "execution_count": 613,
   "metadata": {},
   "outputs": [],
   "source": [
    "from math import log"
   ]
  },
  {
   "cell_type": "code",
   "execution_count": 677,
   "metadata": {},
   "outputs": [
    {
     "name": "stdout",
     "output_type": "stream",
     "text": [
      "  toothed breathes   legs  species\n",
      "0    True     True   True   Mammal\n",
      "1    True     True   True   Mammal\n",
      "2    True     True  False  Reptile\n",
      "3   False     True   True   Mammal\n",
      "4    True     True   True   Mammal\n",
      "5    True     True   True   Mammal\n",
      "6    True    False  False  Reptile\n",
      "7    True     True  False  Reptile\n",
      "8    True     True   True   Mammal\n",
      "9   False     True   True  Reptile\n",
      "Index(['toothed', 'breathes', 'legs'], dtype='object')\n",
      "species\n"
     ]
    }
   ],
   "source": [
    "import pandas as pd\n",
    "import numpy as np\n",
    "from pprint import pprint\n",
    "data = pd.DataFrame({\"toothed\":[\"True\",\"True\",\"True\",\"False\",\"True\",\"True\",\"True\",\"True\",\"True\",\"False\"],\"breathes\":[\"True\",\"True\",\"True\",\"True\",\"True\",\"True\",\"False\",\"True\",\"True\",\"True\"],\"legs\":[\"True\",\"True\",\"False\",\"True\",\"True\",\"True\",\"False\",\"False\",\"True\",\"True\"],\"species\":[\"Mammal\",\"Mammal\",\"Reptile\",\"Mammal\",\"Mammal\",\"Mammal\",\"Reptile\",\"Reptile\",\"Mammal\",\"Reptile\"]})\n",
    "# data = pd.read_csv(\"tennis.csv\")\n",
    "# # data = pd.read_csv(\"hd.csv\")\n",
    "print(data)\n",
    "features= data.columns[:-1]\n",
    "print(features)\n",
    "target = data.columns[features.size]\n",
    "print(target)\n",
    "columns=data.columns\n",
    "# data"
   ]
  },
  {
   "cell_type": "code",
   "execution_count": 678,
   "metadata": {},
   "outputs": [],
   "source": [
    "def entropy(column):\n",
    "    elements,counts = np.unique(column,return_counts = True)\n",
    "    entropy = 0\n",
    "    for i in range(elements.size):\n",
    "        entropy += counts[i]/np.sum(counts)*log(counts[i]/np.sum(counts),2)\n",
    "    entropy= -entropy\n",
    "    return entropy"
   ]
  },
  {
   "cell_type": "code",
   "execution_count": 679,
   "metadata": {},
   "outputs": [],
   "source": [
    "def InfoGain(data,attribute_name):\n",
    "    attribute= data.get(attribute_name)\n",
    "    total_entropy = entropy(data.get(target))\n",
    "    elements,counts = np.unique(attribute,return_counts = True)\n",
    "    split_columns={}\n",
    "    for i in range(elements.size):\n",
    "        split_columns[i] = data[attribute == elements[i]]  \n",
    "    weighted_Entropy = 0\n",
    "    for i in range(elements.size):\n",
    "        weighted_Entropy += (counts[i]/np.sum(counts))*entropy(split_columns[i].get(target))\n",
    "    Info_gain = total_entropy - weighted_Entropy \n",
    "    return Info_gain"
   ]
  },
  {
   "cell_type": "code",
   "execution_count": 680,
   "metadata": {},
   "outputs": [],
   "source": [
    "def PLURALITY_VALUE(example):\n",
    "    elememts, count = np.unique(example[target],return_counts=True)\n",
    "    selected_index =  np.argmax(count)\n",
    "#     print(np.argmax(count))\n",
    "#     print(np.unique(example[target])[np.argmax(count)])\n",
    "    return np.unique(example[target])[selected_index]"
   ]
  },
  {
   "cell_type": "code",
   "execution_count": 681,
   "metadata": {},
   "outputs": [],
   "source": [
    "def decision_tree_learning(examples, attributes, parent_examples):\n",
    "    \n",
    "# if examples is empty then return PLURALITY_VALUE(parent_examples)\n",
    "    if examples.size==0 :\n",
    "        return PLURALITY_VALUE(parent_examples)\n",
    "    \n",
    "# else if all examples have same classification then return the classification\n",
    "    elif np.unique(examples[target]).size < 2:\n",
    "        return np.unique(examples[target])[0]\n",
    "    \n",
    "# else if attributes is empty then return PLURALITY_VALUE(examples)\n",
    "    elif attributes.size == 0:\n",
    "        return PLURALITY_VALUE(examples)\n",
    "    \n",
    "    else:\n",
    "        \n",
    "        InfoGain_values = np.empty((0, attributes.size))\n",
    "        for feature in attributes:\n",
    "            InfoGain_values = np.append(InfoGain_values,InfoGain(examples,feature))\n",
    "        \n",
    "        selected_column = examples.get(attributes[np.argmax(InfoGain_values)])\n",
    "        best_attribute = attributes[np.argmax(InfoGain_values)]\n",
    "        \n",
    "        tree = {best_attribute:{}}  # here best_attribute = A in pseudoCode\n",
    "        \n",
    "        featuresNew = np.empty((0, attributes.size-1))\n",
    "        for i in range(attributes.size):\n",
    "            if(attributes[i]!=best_attribute):\n",
    "                featuresNew = np.append(featuresNew,attributes[i])\n",
    "                \n",
    "        elements,counts=np.unique(selected_column,return_counts=True)\n",
    "        \n",
    "        for i in range((np.unique(selected_column)).size):\n",
    "            value = np.unique(selected_column)[i]\n",
    "            exs = examples.get(examples[best_attribute] == value)\n",
    "            subtree = decision_tree_learning(exs,featuresNew,PLURALITY_VALUE(examples))\n",
    "            tree[best_attribute][value] = subtree\n",
    "        return tree"
   ]
  },
  {
   "cell_type": "code",
   "execution_count": 682,
   "metadata": {
    "scrolled": false
   },
   "outputs": [
    {
     "name": "stdout",
     "output_type": "stream",
     "text": [
      "{'legs': {'False': 'Reptile',\n",
      "          'True': {'toothed': {'False': {'breathes': {'True': 'Mammal'}},\n",
      "                               'True': 'Mammal'}}}}\n"
     ]
    }
   ],
   "source": [
    "tree= decision_tree_learning(data,features, None)\n",
    "pprint(tree)"
   ]
  },
  {
   "cell_type": "code",
   "execution_count": null,
   "metadata": {},
   "outputs": [],
   "source": []
  },
  {
   "cell_type": "code",
   "execution_count": null,
   "metadata": {},
   "outputs": [],
   "source": []
  },
  {
   "cell_type": "code",
   "execution_count": null,
   "metadata": {},
   "outputs": [],
   "source": []
  }
 ],
 "metadata": {
  "kernelspec": {
   "display_name": "Python 3",
   "language": "python",
   "name": "python3"
  },
  "language_info": {
   "codemirror_mode": {
    "name": "ipython",
    "version": 3
   },
   "file_extension": ".py",
   "mimetype": "text/x-python",
   "name": "python",
   "nbconvert_exporter": "python",
   "pygments_lexer": "ipython3",
   "version": "3.8.1"
  }
 },
 "nbformat": 4,
 "nbformat_minor": 4
}
